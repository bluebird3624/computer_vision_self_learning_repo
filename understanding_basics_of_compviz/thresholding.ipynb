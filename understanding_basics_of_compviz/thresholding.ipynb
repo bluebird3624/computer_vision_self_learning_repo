{
 "cells": [
  {
   "cell_type": "markdown",
   "id": "2ac8a0cb",
   "metadata": {},
   "source": [
    "### What is Thresholding?\n",
    "Thresholding converts an image (usually grayscale) into a binary image by assigning pixel values to either black or white based on a threshold value. Pixels above the threshold become one value (e.g., white), and those below become another (e.g., black).\n",
    "#### Types of Thresholding\n",
    "\n",
    "- Global Thresholding:\n",
    "\n",
    "    - Uses a single threshold value for the entire image.\n",
    "    - Example: If $ T = 128 $, pixels with intensity $\\geq 128$ become 255 (white), and others become 0 (black).\n",
    "    - Pros: Simple and fast.\n",
    "    - Cons: Fails with uneven lighting or complex backgrounds.\n",
    "\n",
    "\n",
    "- Adaptive (Local) Thresholding:\n",
    "\n",
    "    - Applies different thresholds to different regions based on local image statistics (e.g., mean or Gaussian-weighted mean of a neighborhood).\n",
    "\n",
    "        Methods:\n",
    "\n",
    "        - Adaptive Mean Thresholding: Threshold is the mean of a local window minus a constant.\n",
    "        - Adaptive Gaussian Thresholding: Uses a Gaussian-weighted mean for smoother results.\n",
    "\n",
    "\n",
    "    - Application: Document scanning with varying lighting conditions.\n",
    "    - Pros: Handles non-uniform illumination.\n",
    "    - Cons: Computationally more intensive.\n",
    "\n",
    "\n",
    "- Otsu’s Method:\n",
    "\n",
    "    - Automatically determines the optimal global threshold by minimizing intra-class variance of the resulting binary image.\n",
    "    - Assumes a bimodal histogram (two distinct intensity peaks).\n",
    "    - Application: Separating objects from backgrounds with clear intensity differences.\n",
    "    - Pros: Automatic threshold selection.\n",
    "    - Cons: Less effective for images without bimodal histograms.\n",
    "\n",
    "\n",
    "\n",
    "- How Thresholding Works\n",
    "\n",
    "    For a grayscale image with pixel intensities $[0, 255]$, a threshold $ T $ is applied:\n",
    "    $$\\text{Output}(x, y) = \\begin{cases} \n",
    "    255 & \\text{if } \\text{Image}(x, y) \\geq T \\\\\n",
    "    0 & \\text{otherwise}\n",
    "    \\end{cases}$$\n",
    "\n",
    "Adaptive thresholding computes $ T $ for each pixel based on its local neighborhood."
   ]
  },
  {
   "cell_type": "code",
   "execution_count": 5,
   "id": "ba29c0e8",
   "metadata": {},
   "outputs": [],
   "source": [
    "import cv2\n",
    "\n",
    "# Load image in grayscale\n",
    "image_path = '../human_faces_and_object_dataset/Images/male_faces/male_913.jpg'\n",
    "image = cv2.imread(image_path, cv2.IMREAD_GRAYSCALE)\n",
    "\n",
    "# Global thresholding\n",
    "_, global_thresh = cv2.threshold(image, 128, 255, cv2.THRESH_BINARY)\n",
    "\n",
    "# Adaptive thresholding\n",
    "adaptive_thresh = cv2.adaptiveThreshold(image, 255, cv2.ADAPTIVE_THRESH_GAUSSIAN_C, \n",
    "                                       cv2.THRESH_BINARY, 11, 2)\n",
    "\n",
    "# Otsu's thresholding\n",
    "_, otsu_thresh = cv2.threshold(image, 0, 255, cv2.THRESH_BINARY + cv2.THRESH_OTSU)\n",
    "\n",
    "# Save results\n",
    "cv2.imshow('global_thresh', global_thresh)\n",
    "cv2.imshow('adaptive_thresh', adaptive_thresh)\n",
    "cv2.imshow('otsu_thresh', otsu_thresh)\n",
    "cv2.waitKey(0)  # Waits for any key to be pressed\n",
    "cv2.destroyAllWindows()"
   ]
  },
  {
   "cell_type": "markdown",
   "id": "a526acbe",
   "metadata": {},
   "source": [
    "### Applications\n",
    "\n",
    "- Image segmentation (e.g., separating text from background in OCR).\n",
    "- Object detection (e.g., isolating bright objects in astronomical images).\n",
    "- Preprocessing for further analysis (e.g., creating masks for edge detection).\n",
    "### Practical Tips\n",
    "\n",
    "- Use Otsu’s method for automatic thresholding when the image has clear foreground/background separation.\n",
    "- Adaptive thresholding is better for images with shadows or uneven lighting.\n",
    "- Combine thresholding with edge detection for robust segmentation (e.g., threshold edges from Canny)."
   ]
  }
 ],
 "metadata": {
  "kernelspec": {
   "display_name": "compviz",
   "language": "python",
   "name": "python3"
  },
  "language_info": {
   "codemirror_mode": {
    "name": "ipython",
    "version": 3
   },
   "file_extension": ".py",
   "mimetype": "text/x-python",
   "name": "python",
   "nbconvert_exporter": "python",
   "pygments_lexer": "ipython3",
   "version": "3.10.12"
  }
 },
 "nbformat": 4,
 "nbformat_minor": 5
}
