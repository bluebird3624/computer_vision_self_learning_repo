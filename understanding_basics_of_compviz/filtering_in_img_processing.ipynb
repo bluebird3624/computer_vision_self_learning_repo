{
 "cells": [
  {
   "cell_type": "markdown",
   "id": "38dd739f",
   "metadata": {},
   "source": [
    "### What is Filtering?\n",
    "Filtering involves applying a transformation to an image to modify its appearance or extract specific features. Filters operate on pixel values, typically using a small matrix called a kernel or mask, which is convolved with the image to produce a new image. Filters can smooth noise, enhance features, or prepare images for further analysis.\n",
    "\n",
    "##### Types of Filters\n",
    "\n",
    "- Smoothing (Low-Pass) Filters: Reduce noise and fine details, creating a blurred effect.\n",
    "\n",
    "    - Mean Filter (Box Blur): Replaces each pixel with the average of its neighbors defined by the kernel. Simple but can blur edges.\n",
    "\n",
    "       Example: A 3x3 kernel averages the 9 surrounding pixels.\n",
    "\n",
    "\n",
    "    - Gaussian Blur: Uses a Gaussian distribution to weight nearby pixels, preserving edges better than mean filtering.\n",
    "\n",
    "      Formula: Kernel weights are derived from the Gaussian function $ G(x, y) = \\frac{1}{2\\pi\\sigma^2} e^{-\\frac{x^2 + y^2}{2\\sigma^2}} $, where $\\sigma$ controls blur strength.\n",
    "     Application: Noise reduction before edge detection.\n",
    "\n",
    "\n",
    "    - Median Filter: Replaces each pixel with the median of neighboring pixels. Effective for salt-and-pepper noise (random bright/dark pixels) while preserving edges.\n",
    "\n",
    "       Example: For a 3x3 window, sort the 9 pixel values and pick the middle one.\n",
    "\n",
    "\n",
    "\n",
    "\n",
    "- Sharpening (High-Pass) Filters: Enhance edges and fine details by amplifying differences between a pixel and its neighbors.\n",
    "\n",
    "    - Laplacian Filter: Computes the second derivative of the image intensity to highlight rapid intensity changes (edges).\n",
    "\n",
    "       Kernel example: $\\begin{bmatrix} 0 & 1 & 0 \\\\ 1 & -4 & 1 \\\\ 0 & 1 & 0 \\end{bmatrix}$\n",
    "       Application: Edge enhancement, often combined with the original image to sharpen it.\n",
    "\n",
    "\n",
    "    - Unsharp Masking: Subtracts a blurred version of the image from the original to emphasize edges.\n",
    "\n",
    "\n",
    "\n",
    "##### How Filtering Works\n",
    "\n",
    "A kernel (e.g., 3x3) slides over the image, performing a weighted sum of pixel values in the kernel’s region.\n",
    "For a pixel at position $(x, y)$, the output is:\n",
    "$$\\text{Output}(x, y) = \\sum_{i,j} \\text{Kernel}(i, j) \\cdot \\text{Image}(x+i, y+j)$$\n",
    "\n",
    "Edge pixels may require padding (e.g., replicating border pixels) to handle kernel application.\n",
    "\n",
    "Applications\n",
    "\n",
    "Noise reduction (e.g., Gaussian or median filtering in medical imaging).\n",
    "Image enhancement (e.g., sharpening for photography).\n",
    "Preprocessing for edge detection or segmentation."
   ]
  },
  {
   "cell_type": "code",
   "execution_count": 4,
   "id": "43a0bab3",
   "metadata": {},
   "outputs": [],
   "source": [
    "import cv2\n",
    "import numpy as np\n",
    "\n",
    "# Load image in grayscale\n",
    "image_path = '../human_faces_and_object_dataset/Images/male_faces/male_913.jpg'\n",
    "image = cv2.imread(image_path, cv2.IMREAD_GRAYSCALE)\n",
    "\n",
    "# Apply Gaussian blur\n",
    "gaussian_blur = cv2.GaussianBlur(image, (5, 5), sigmaX=1.5)\n",
    "\n",
    "# Apply median filter\n",
    "median_blur = cv2.medianBlur(image, 5)\n",
    "\n",
    "# display results\n",
    "cv2.imshow('Gaussian_blur', gaussian_blur)\n",
    "cv2.imshow('Median_blur', median_blur)\n",
    "cv2.waitKey(0)  # Waits for any key to be pressed\n",
    "cv2.destroyAllWindows()"
   ]
  }
 ],
 "metadata": {
  "kernelspec": {
   "display_name": "compviz",
   "language": "python",
   "name": "python3"
  },
  "language_info": {
   "codemirror_mode": {
    "name": "ipython",
    "version": 3
   },
   "file_extension": ".py",
   "mimetype": "text/x-python",
   "name": "python",
   "nbconvert_exporter": "python",
   "pygments_lexer": "ipython3",
   "version": "3.10.12"
  }
 },
 "nbformat": 4,
 "nbformat_minor": 5
}
