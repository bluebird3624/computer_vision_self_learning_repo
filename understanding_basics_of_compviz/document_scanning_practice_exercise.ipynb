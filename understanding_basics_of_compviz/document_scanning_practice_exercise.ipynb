{
 "cells": [
  {
   "cell_type": "markdown",
   "id": "3a8aea94",
   "metadata": {},
   "source": [
    "# Practical Example: Document Scanning\n",
    "- Goal: Extract text from a scanned document with uneven lighting.\n",
    "- Steps:\n",
    "    1. Convert to grayscale.\n",
    "    2. Apply Gaussian blur to reduce noise.\n",
    "    3. Use adaptive thresholding to create a binary image, separating text (black) from the background (white).\n",
    "    4. Optionally, apply edge detection to refine text boundaries."
   ]
  },
  {
   "cell_type": "code",
   "execution_count": 21,
   "id": "11e40adb",
   "metadata": {},
   "outputs": [],
   "source": [
    "import cv2\n",
    "import numpy as np\n",
    "\n",
    "# Load image in grayscale\n",
    "img_path = '../human_faces_and_object_dataset/Images/Objects/object_2002.png'\n",
    "image = cv2.imread(img_path, cv2.IMREAD_GRAYSCALE)\n",
    "\n",
    "# Check if image loaded correctly\n",
    "if image is None:\n",
    "    print(\"Error: Could not load image. Check the file path.\")\n",
    "    exit()\n",
    "\n",
    "# Step 1: Upscale image if text is too small (adjust scale_factor as needed)\n",
    "scale_factor = 2\n",
    "image = cv2.resize(image, None, fx=scale_factor, fy=scale_factor, interpolation=cv2.INTER_CUBIC)\n",
    "\n",
    "# Step 2: Enhance contrast using CLAHE\n",
    "clahe = cv2.createCLAHE(clipLimit=2.0, tileGridSize=(8, 8))\n",
    "contrast_enhanced = clahe.apply(image)\n",
    "\n",
    "# Step 3: Apply light Gaussian blur to reduce noise\n",
    "blurred = cv2.GaussianBlur(contrast_enhanced, (3, 3), sigmaX=0.5)\n",
    "\n",
    "# Step 4: Apply Otsu's thresholding\n",
    "_, binary = cv2.threshold(blurred, 0, 255, cv2.THRESH_BINARY_INV + cv2.THRESH_OTSU)\n",
    "\n",
    "# Step 5: Morphological operations to clean up text\n",
    "kernel = np.ones((1, 1), np.uint8)\n",
    "binary_cleaned = cv2.morphologyEx(binary, cv2.MORPH_OPEN, kernel, iterations=2)  # Remove small noise\n",
    "binary_cleaned = cv2.dilate(binary_cleaned, kernel, iterations=1)  # Slightly thicken text\n",
    "\n",
    "# Step 6: Mild sharpening to enhance text edges\n",
    "sharpen_kernel = np.array([[0, -1, 0], \n",
    "                          [-1, 5, -1], \n",
    "                          [0, -1, 0]])\n",
    "sharpened = cv2.filter2D(binary_cleaned, -1, sharpen_kernel)\n",
    "\n",
    "# Display results\n",
    "cv2.imshow('Original', image)\n",
    "cv2.imshow('Contrast Enhanced', contrast_enhanced)\n",
    "cv2.imshow('Otsu Thresholded and Sharpened', sharpened)\n",
    "cv2.waitKey(0)\n",
    "cv2.destroyAllWindows()\n",
    "\n",
    "# Save result\n",
    "# cv2.imwrite('sharpened_text_otsu.jpg', sharpened)"
   ]
  }
 ],
 "metadata": {
  "kernelspec": {
   "display_name": "compviz",
   "language": "python",
   "name": "python3"
  },
  "language_info": {
   "codemirror_mode": {
    "name": "ipython",
    "version": 3
   },
   "file_extension": ".py",
   "mimetype": "text/x-python",
   "name": "python",
   "nbconvert_exporter": "python",
   "pygments_lexer": "ipython3",
   "version": "3.10.12"
  }
 },
 "nbformat": 4,
 "nbformat_minor": 5
}
